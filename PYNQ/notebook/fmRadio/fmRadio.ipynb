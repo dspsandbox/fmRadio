{
 "cells": [
  {
   "cell_type": "markdown",
   "metadata": {},
   "source": [
    "# Square pulse FM Radio"
   ]
  },
  {
   "cell_type": "markdown",
   "metadata": {},
   "source": [
    "### Specifications\n",
    "* Frequency range: DC-108 MHz \n",
    "* Board: [Cora-Z7-07S board](https://store.digilentinc.com/cora-z7-zynq-7000-single-core-and-dual-core-options-for-arm-fpga-soc-development/).\n",
    "* Radio output pin: ck_io7\n",
    "* Status: led0_g (on/off)\n",
    " \n",
    "\n",
    "### System Architecture\n",
    "![fmRadioDesign0.PNG](resources/fmRadioDesign0.PNG)\n",
    "\n",
    "### FM Subarchitecture\n",
    "![fmRadioDesign1.PNG](resources/fmRadioDesign1.PNG)"
   ]
  },
  {
   "cell_type": "code",
   "execution_count": null,
   "metadata": {},
   "outputs": [],
   "source": [
    "import numpy as np\n",
    "import time\n",
    "from scipy.io import wavfile\n",
    "from pynq import Overlay,allocate\n",
    "from scipy.io import wavfile\n",
    "\n",
    "ol=Overlay(\"fmRadio.bit\")\n",
    "\n",
    "def setResetn(val):\n",
    "    mask=0xffffffff\n",
    "    resetn=0\n",
    "    ol.fm.ctrl.channel1.write(val,mask)\n",
    "    return\n",
    "\n",
    "def setAxisThrottle(clkFreq,audioSampligFreq):\n",
    "    mask=0xffffffff\n",
    "    resetn=1\n",
    "    prescaler=int(clkFreq/audioSampligFreq)-1\n",
    "    ol.fm.ctrl.channel2.write(prescaler,mask)\n",
    "    return"
   ]
  },
  {
   "cell_type": "code",
   "execution_count": null,
   "metadata": {},
   "outputs": [],
   "source": [
    "#PARAMETERS VIVADO DESIGN\n",
    "clkFreq=108e6\n",
    "bufferSize=16384"
   ]
  },
  {
   "cell_type": "code",
   "execution_count": null,
   "metadata": {},
   "outputs": [],
   "source": [
    "#PARAMETERS FM\n",
    "baseband=94e6  #Baseband frequency (Hz)\n",
    "fmMax=75e3     #Max. frequency modulation (Hz)"
   ]
  },
  {
   "cell_type": "code",
   "execution_count": null,
   "metadata": {},
   "outputs": [],
   "source": [
    "#LOAD AUDIO\n",
    "audioSampligFreq, data = wavfile.read('./resources/mambo_no_5-lou_bega.wav')\n",
    "print(audioSampligFreq,data.dtype,len(data))"
   ]
  },
  {
   "cell_type": "code",
   "execution_count": null,
   "metadata": {},
   "outputs": [],
   "source": [
    "dataFm=(baseband+fmMax*data/2**16)/(2*clkFreq)*2**32\n",
    "dataFm=np.array(dataFm,dtype=\"uint32\")\n",
    "\n",
    "setResetn(0) #RESET/STOP\n",
    "setAxisThrottle(clkFreq,audioSampligFreq) #CONFIG AXI STREAM THROTTLE\n",
    "setResetn(1) #RUN\n",
    "\n",
    "\n",
    "input_buffer = allocate(shape=(bufferSize,), dtype=np.uint32)\n",
    "iMax=int(len(dataFm)/bufferSize)\n",
    "remainder=len(dataFm)%bufferSize\n",
    "t0=time.time()\n",
    "for i in range(0,iMax):\n",
    "    print(\"t=%.1fs\"%(time.time()-t0))\n",
    "    np.copyto(input_buffer,dataFm[int(i*bufferSize):int((i+1)*bufferSize)])  \n",
    "    ol.fm.axi_dma_0.sendchannel.transfer(input_buffer)\n",
    "    ol.fm.axi_dma_0.sendchannel.wait()\n",
    "    \n",
    "np.copyto(input_buffer,np.array(np.append(dataFm[-remainder:],np.zeros(bufferSize-remainder)),dtype=\"uint32\")) \n",
    "ol.fm.axi_dma_0.sendchannel.transfer(input_buffer)\n",
    "ol.fm.axi_dma_0.sendchannel.wait()   \n",
    "time.sleep(1)\n",
    "setResetn(0) #RESET/STOP"
   ]
  }
 ],
 "metadata": {
  "kernelspec": {
   "display_name": "Python 3",
   "language": "python",
   "name": "python3"
  },
  "language_info": {
   "codemirror_mode": {
    "name": "ipython",
    "version": 3
   },
   "file_extension": ".py",
   "mimetype": "text/x-python",
   "name": "python",
   "nbconvert_exporter": "python",
   "pygments_lexer": "ipython3",
   "version": "3.7.3"
  }
 },
 "nbformat": 4,
 "nbformat_minor": 2
}
